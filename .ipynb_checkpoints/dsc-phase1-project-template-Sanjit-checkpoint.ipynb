{
 "cells": [
  {
   "cell_type": "markdown",
   "metadata": {},
   "source": [
    "![example](images/director_shot.jpeg)"
   ]
  },
  {
   "cell_type": "markdown",
   "metadata": {},
   "source": [
    "# Project Title\n",
    "\n",
    "**Authors:** Student 1, Student 2, Student 3\n",
    "***"
   ]
  },
  {
   "cell_type": "markdown",
   "metadata": {},
   "source": [
    "## Overview\n",
    "\n",
    "A one-paragraph overview of the project, including the business problem, data, methods, results and recommendations."
   ]
  },
  {
   "cell_type": "markdown",
   "metadata": {},
   "source": [
    "## Business Problem\n",
    "\n",
    "Summary of the business problem you are trying to solve, and the data questions that you plan to answer to solve them.\n",
    "\n",
    "***\n",
    "Questions to consider:\n",
    "* What are the business's pain points related to this project?\n",
    "* How did you pick the data analysis question(s) that you did?\n",
    "* Why are these questions important from a business perspective?\n",
    "***"
   ]
  },
  {
   "cell_type": "markdown",
   "metadata": {},
   "source": [
    "## Data Understanding\n",
    "\n",
    "Describe the data being used for this project.\n",
    "***\n",
    "Questions to consider:\n",
    "* Where did the data come from, and how do they relate to the data analysis questions?\n",
    "* What do the data represent? Who is in the sample and what variables are included?\n",
    "* What is the target variable?\n",
    "* What are the properties of the variables you intend to use?\n",
    "***"
   ]
  },
  {
   "cell_type": "code",
   "execution_count": 5,
   "metadata": {},
   "outputs": [],
   "source": [
    "# Import standard packages\n",
    "import pandas as pd\n",
    "import numpy as np\n",
    "import matplotlib.pyplot as plt\n",
    "import seaborn as sns\n",
    "import zipfile\n",
    "\n",
    "%matplotlib inline"
   ]
  },
  {
   "cell_type": "code",
   "execution_count": 6,
   "metadata": {},
   "outputs": [
    {
     "ename": "FileNotFoundError",
     "evalue": "[Errno 2] No such file or directory: 'data/zippeddata/bom.movie_gross.csv.gz'",
     "output_type": "error",
     "traceback": [
      "\u001b[0;31m---------------------------------------------------------------------------\u001b[0m",
      "\u001b[0;31mFileNotFoundError\u001b[0m                         Traceback (most recent call last)",
      "\u001b[0;32m<ipython-input-6-05cf9b38ef3c>\u001b[0m in \u001b[0;36m<module>\u001b[0;34m\u001b[0m\n\u001b[1;32m      1\u001b[0m \u001b[0;31m# Here you run your code to explore the data\u001b[0m\u001b[0;34m\u001b[0m\u001b[0;34m\u001b[0m\u001b[0;34m\u001b[0m\u001b[0m\n\u001b[0;32m----> 2\u001b[0;31m \u001b[0mdfbom\u001b[0m \u001b[0;34m=\u001b[0m \u001b[0mpd\u001b[0m\u001b[0;34m.\u001b[0m\u001b[0mread_csv\u001b[0m\u001b[0;34m(\u001b[0m\u001b[0;34m'data/zippeddata/bom.movie_gross.csv.gz'\u001b[0m\u001b[0;34m)\u001b[0m\u001b[0;34m\u001b[0m\u001b[0;34m\u001b[0m\u001b[0m\n\u001b[0m\u001b[1;32m      3\u001b[0m \u001b[0;31m# df.sort_values('year')\u001b[0m\u001b[0;34m\u001b[0m\u001b[0;34m\u001b[0m\u001b[0;34m\u001b[0m\u001b[0m\n\u001b[1;32m      4\u001b[0m \u001b[0;34m\u001b[0m\u001b[0m\n\u001b[1;32m      5\u001b[0m \u001b[0;31m#df_imdb_name = pd.read_csv('data/zippeddata/imdb.name.basics.csv')\u001b[0m\u001b[0;34m\u001b[0m\u001b[0;34m\u001b[0m\u001b[0;34m\u001b[0m\u001b[0m\n",
      "\u001b[0;32m~/opt/anaconda3/lib/python3.8/site-packages/pandas/io/parsers.py\u001b[0m in \u001b[0;36mread_csv\u001b[0;34m(filepath_or_buffer, sep, delimiter, header, names, index_col, usecols, squeeze, prefix, mangle_dupe_cols, dtype, engine, converters, true_values, false_values, skipinitialspace, skiprows, skipfooter, nrows, na_values, keep_default_na, na_filter, verbose, skip_blank_lines, parse_dates, infer_datetime_format, keep_date_col, date_parser, dayfirst, cache_dates, iterator, chunksize, compression, thousands, decimal, lineterminator, quotechar, quoting, doublequote, escapechar, comment, encoding, dialect, error_bad_lines, warn_bad_lines, delim_whitespace, low_memory, memory_map, float_precision, storage_options)\u001b[0m\n\u001b[1;32m    608\u001b[0m     \u001b[0mkwds\u001b[0m\u001b[0;34m.\u001b[0m\u001b[0mupdate\u001b[0m\u001b[0;34m(\u001b[0m\u001b[0mkwds_defaults\u001b[0m\u001b[0;34m)\u001b[0m\u001b[0;34m\u001b[0m\u001b[0;34m\u001b[0m\u001b[0m\n\u001b[1;32m    609\u001b[0m \u001b[0;34m\u001b[0m\u001b[0m\n\u001b[0;32m--> 610\u001b[0;31m     \u001b[0;32mreturn\u001b[0m \u001b[0m_read\u001b[0m\u001b[0;34m(\u001b[0m\u001b[0mfilepath_or_buffer\u001b[0m\u001b[0;34m,\u001b[0m \u001b[0mkwds\u001b[0m\u001b[0;34m)\u001b[0m\u001b[0;34m\u001b[0m\u001b[0;34m\u001b[0m\u001b[0m\n\u001b[0m\u001b[1;32m    611\u001b[0m \u001b[0;34m\u001b[0m\u001b[0m\n\u001b[1;32m    612\u001b[0m \u001b[0;34m\u001b[0m\u001b[0m\n",
      "\u001b[0;32m~/opt/anaconda3/lib/python3.8/site-packages/pandas/io/parsers.py\u001b[0m in \u001b[0;36m_read\u001b[0;34m(filepath_or_buffer, kwds)\u001b[0m\n\u001b[1;32m    460\u001b[0m \u001b[0;34m\u001b[0m\u001b[0m\n\u001b[1;32m    461\u001b[0m     \u001b[0;31m# Create the parser.\u001b[0m\u001b[0;34m\u001b[0m\u001b[0;34m\u001b[0m\u001b[0;34m\u001b[0m\u001b[0m\n\u001b[0;32m--> 462\u001b[0;31m     \u001b[0mparser\u001b[0m \u001b[0;34m=\u001b[0m \u001b[0mTextFileReader\u001b[0m\u001b[0;34m(\u001b[0m\u001b[0mfilepath_or_buffer\u001b[0m\u001b[0;34m,\u001b[0m \u001b[0;34m**\u001b[0m\u001b[0mkwds\u001b[0m\u001b[0;34m)\u001b[0m\u001b[0;34m\u001b[0m\u001b[0;34m\u001b[0m\u001b[0m\n\u001b[0m\u001b[1;32m    463\u001b[0m \u001b[0;34m\u001b[0m\u001b[0m\n\u001b[1;32m    464\u001b[0m     \u001b[0;32mif\u001b[0m \u001b[0mchunksize\u001b[0m \u001b[0;32mor\u001b[0m \u001b[0miterator\u001b[0m\u001b[0;34m:\u001b[0m\u001b[0;34m\u001b[0m\u001b[0;34m\u001b[0m\u001b[0m\n",
      "\u001b[0;32m~/opt/anaconda3/lib/python3.8/site-packages/pandas/io/parsers.py\u001b[0m in \u001b[0;36m__init__\u001b[0;34m(self, f, engine, **kwds)\u001b[0m\n\u001b[1;32m    817\u001b[0m             \u001b[0mself\u001b[0m\u001b[0;34m.\u001b[0m\u001b[0moptions\u001b[0m\u001b[0;34m[\u001b[0m\u001b[0;34m\"has_index_names\"\u001b[0m\u001b[0;34m]\u001b[0m \u001b[0;34m=\u001b[0m \u001b[0mkwds\u001b[0m\u001b[0;34m[\u001b[0m\u001b[0;34m\"has_index_names\"\u001b[0m\u001b[0;34m]\u001b[0m\u001b[0;34m\u001b[0m\u001b[0;34m\u001b[0m\u001b[0m\n\u001b[1;32m    818\u001b[0m \u001b[0;34m\u001b[0m\u001b[0m\n\u001b[0;32m--> 819\u001b[0;31m         \u001b[0mself\u001b[0m\u001b[0;34m.\u001b[0m\u001b[0m_engine\u001b[0m \u001b[0;34m=\u001b[0m \u001b[0mself\u001b[0m\u001b[0;34m.\u001b[0m\u001b[0m_make_engine\u001b[0m\u001b[0;34m(\u001b[0m\u001b[0mself\u001b[0m\u001b[0;34m.\u001b[0m\u001b[0mengine\u001b[0m\u001b[0;34m)\u001b[0m\u001b[0;34m\u001b[0m\u001b[0;34m\u001b[0m\u001b[0m\n\u001b[0m\u001b[1;32m    820\u001b[0m \u001b[0;34m\u001b[0m\u001b[0m\n\u001b[1;32m    821\u001b[0m     \u001b[0;32mdef\u001b[0m \u001b[0mclose\u001b[0m\u001b[0;34m(\u001b[0m\u001b[0mself\u001b[0m\u001b[0;34m)\u001b[0m\u001b[0;34m:\u001b[0m\u001b[0;34m\u001b[0m\u001b[0;34m\u001b[0m\u001b[0m\n",
      "\u001b[0;32m~/opt/anaconda3/lib/python3.8/site-packages/pandas/io/parsers.py\u001b[0m in \u001b[0;36m_make_engine\u001b[0;34m(self, engine)\u001b[0m\n\u001b[1;32m   1048\u001b[0m             )\n\u001b[1;32m   1049\u001b[0m         \u001b[0;31m# error: Too many arguments for \"ParserBase\"\u001b[0m\u001b[0;34m\u001b[0m\u001b[0;34m\u001b[0m\u001b[0;34m\u001b[0m\u001b[0m\n\u001b[0;32m-> 1050\u001b[0;31m         \u001b[0;32mreturn\u001b[0m \u001b[0mmapping\u001b[0m\u001b[0;34m[\u001b[0m\u001b[0mengine\u001b[0m\u001b[0;34m]\u001b[0m\u001b[0;34m(\u001b[0m\u001b[0mself\u001b[0m\u001b[0;34m.\u001b[0m\u001b[0mf\u001b[0m\u001b[0;34m,\u001b[0m \u001b[0;34m**\u001b[0m\u001b[0mself\u001b[0m\u001b[0;34m.\u001b[0m\u001b[0moptions\u001b[0m\u001b[0;34m)\u001b[0m  \u001b[0;31m# type: ignore[call-arg]\u001b[0m\u001b[0;34m\u001b[0m\u001b[0;34m\u001b[0m\u001b[0m\n\u001b[0m\u001b[1;32m   1051\u001b[0m \u001b[0;34m\u001b[0m\u001b[0m\n\u001b[1;32m   1052\u001b[0m     \u001b[0;32mdef\u001b[0m \u001b[0m_failover_to_python\u001b[0m\u001b[0;34m(\u001b[0m\u001b[0mself\u001b[0m\u001b[0;34m)\u001b[0m\u001b[0;34m:\u001b[0m\u001b[0;34m\u001b[0m\u001b[0;34m\u001b[0m\u001b[0m\n",
      "\u001b[0;32m~/opt/anaconda3/lib/python3.8/site-packages/pandas/io/parsers.py\u001b[0m in \u001b[0;36m__init__\u001b[0;34m(self, src, **kwds)\u001b[0m\n\u001b[1;32m   1865\u001b[0m \u001b[0;34m\u001b[0m\u001b[0m\n\u001b[1;32m   1866\u001b[0m         \u001b[0;31m# open handles\u001b[0m\u001b[0;34m\u001b[0m\u001b[0;34m\u001b[0m\u001b[0;34m\u001b[0m\u001b[0m\n\u001b[0;32m-> 1867\u001b[0;31m         \u001b[0mself\u001b[0m\u001b[0;34m.\u001b[0m\u001b[0m_open_handles\u001b[0m\u001b[0;34m(\u001b[0m\u001b[0msrc\u001b[0m\u001b[0;34m,\u001b[0m \u001b[0mkwds\u001b[0m\u001b[0;34m)\u001b[0m\u001b[0;34m\u001b[0m\u001b[0;34m\u001b[0m\u001b[0m\n\u001b[0m\u001b[1;32m   1868\u001b[0m         \u001b[0;32massert\u001b[0m \u001b[0mself\u001b[0m\u001b[0;34m.\u001b[0m\u001b[0mhandles\u001b[0m \u001b[0;32mis\u001b[0m \u001b[0;32mnot\u001b[0m \u001b[0;32mNone\u001b[0m\u001b[0;34m\u001b[0m\u001b[0;34m\u001b[0m\u001b[0m\n\u001b[1;32m   1869\u001b[0m         \u001b[0;32mfor\u001b[0m \u001b[0mkey\u001b[0m \u001b[0;32min\u001b[0m \u001b[0;34m(\u001b[0m\u001b[0;34m\"storage_options\"\u001b[0m\u001b[0;34m,\u001b[0m \u001b[0;34m\"encoding\"\u001b[0m\u001b[0;34m,\u001b[0m \u001b[0;34m\"memory_map\"\u001b[0m\u001b[0;34m,\u001b[0m \u001b[0;34m\"compression\"\u001b[0m\u001b[0;34m)\u001b[0m\u001b[0;34m:\u001b[0m\u001b[0;34m\u001b[0m\u001b[0;34m\u001b[0m\u001b[0m\n",
      "\u001b[0;32m~/opt/anaconda3/lib/python3.8/site-packages/pandas/io/parsers.py\u001b[0m in \u001b[0;36m_open_handles\u001b[0;34m(self, src, kwds)\u001b[0m\n\u001b[1;32m   1360\u001b[0m         \u001b[0mLet\u001b[0m \u001b[0mthe\u001b[0m \u001b[0mreaders\u001b[0m \u001b[0mopen\u001b[0m \u001b[0mIOHanldes\u001b[0m \u001b[0mafter\u001b[0m \u001b[0mthey\u001b[0m \u001b[0mare\u001b[0m \u001b[0mdone\u001b[0m \u001b[0;32mwith\u001b[0m \u001b[0mtheir\u001b[0m \u001b[0mpotential\u001b[0m \u001b[0mraises\u001b[0m\u001b[0;34m.\u001b[0m\u001b[0;34m\u001b[0m\u001b[0;34m\u001b[0m\u001b[0m\n\u001b[1;32m   1361\u001b[0m         \"\"\"\n\u001b[0;32m-> 1362\u001b[0;31m         self.handles = get_handle(\n\u001b[0m\u001b[1;32m   1363\u001b[0m             \u001b[0msrc\u001b[0m\u001b[0;34m,\u001b[0m\u001b[0;34m\u001b[0m\u001b[0;34m\u001b[0m\u001b[0m\n\u001b[1;32m   1364\u001b[0m             \u001b[0;34m\"r\"\u001b[0m\u001b[0;34m,\u001b[0m\u001b[0;34m\u001b[0m\u001b[0;34m\u001b[0m\u001b[0m\n",
      "\u001b[0;32m~/opt/anaconda3/lib/python3.8/site-packages/pandas/io/common.py\u001b[0m in \u001b[0;36mget_handle\u001b[0;34m(path_or_buf, mode, encoding, compression, memory_map, is_text, errors, storage_options)\u001b[0m\n\u001b[1;32m    584\u001b[0m             \u001b[0;32mif\u001b[0m \u001b[0mis_path\u001b[0m\u001b[0;34m:\u001b[0m\u001b[0;34m\u001b[0m\u001b[0;34m\u001b[0m\u001b[0m\n\u001b[1;32m    585\u001b[0m                 \u001b[0;32massert\u001b[0m \u001b[0misinstance\u001b[0m\u001b[0;34m(\u001b[0m\u001b[0mhandle\u001b[0m\u001b[0;34m,\u001b[0m \u001b[0mstr\u001b[0m\u001b[0;34m)\u001b[0m\u001b[0;34m\u001b[0m\u001b[0;34m\u001b[0m\u001b[0m\n\u001b[0;32m--> 586\u001b[0;31m                 handle = gzip.GzipFile(\n\u001b[0m\u001b[1;32m    587\u001b[0m                     \u001b[0mfilename\u001b[0m\u001b[0;34m=\u001b[0m\u001b[0mhandle\u001b[0m\u001b[0;34m,\u001b[0m\u001b[0;34m\u001b[0m\u001b[0;34m\u001b[0m\u001b[0m\n\u001b[1;32m    588\u001b[0m                     \u001b[0mmode\u001b[0m\u001b[0;34m=\u001b[0m\u001b[0mioargs\u001b[0m\u001b[0;34m.\u001b[0m\u001b[0mmode\u001b[0m\u001b[0;34m,\u001b[0m\u001b[0;34m\u001b[0m\u001b[0;34m\u001b[0m\u001b[0m\n",
      "\u001b[0;32m~/opt/anaconda3/lib/python3.8/gzip.py\u001b[0m in \u001b[0;36m__init__\u001b[0;34m(self, filename, mode, compresslevel, fileobj, mtime)\u001b[0m\n\u001b[1;32m    171\u001b[0m             \u001b[0mmode\u001b[0m \u001b[0;34m+=\u001b[0m \u001b[0;34m'b'\u001b[0m\u001b[0;34m\u001b[0m\u001b[0;34m\u001b[0m\u001b[0m\n\u001b[1;32m    172\u001b[0m         \u001b[0;32mif\u001b[0m \u001b[0mfileobj\u001b[0m \u001b[0;32mis\u001b[0m \u001b[0;32mNone\u001b[0m\u001b[0;34m:\u001b[0m\u001b[0;34m\u001b[0m\u001b[0;34m\u001b[0m\u001b[0m\n\u001b[0;32m--> 173\u001b[0;31m             \u001b[0mfileobj\u001b[0m \u001b[0;34m=\u001b[0m \u001b[0mself\u001b[0m\u001b[0;34m.\u001b[0m\u001b[0mmyfileobj\u001b[0m \u001b[0;34m=\u001b[0m \u001b[0mbuiltins\u001b[0m\u001b[0;34m.\u001b[0m\u001b[0mopen\u001b[0m\u001b[0;34m(\u001b[0m\u001b[0mfilename\u001b[0m\u001b[0;34m,\u001b[0m \u001b[0mmode\u001b[0m \u001b[0;32mor\u001b[0m \u001b[0;34m'rb'\u001b[0m\u001b[0;34m)\u001b[0m\u001b[0;34m\u001b[0m\u001b[0;34m\u001b[0m\u001b[0m\n\u001b[0m\u001b[1;32m    174\u001b[0m         \u001b[0;32mif\u001b[0m \u001b[0mfilename\u001b[0m \u001b[0;32mis\u001b[0m \u001b[0;32mNone\u001b[0m\u001b[0;34m:\u001b[0m\u001b[0;34m\u001b[0m\u001b[0;34m\u001b[0m\u001b[0m\n\u001b[1;32m    175\u001b[0m             \u001b[0mfilename\u001b[0m \u001b[0;34m=\u001b[0m \u001b[0mgetattr\u001b[0m\u001b[0;34m(\u001b[0m\u001b[0mfileobj\u001b[0m\u001b[0;34m,\u001b[0m \u001b[0;34m'name'\u001b[0m\u001b[0;34m,\u001b[0m \u001b[0;34m''\u001b[0m\u001b[0;34m)\u001b[0m\u001b[0;34m\u001b[0m\u001b[0;34m\u001b[0m\u001b[0m\n",
      "\u001b[0;31mFileNotFoundError\u001b[0m: [Errno 2] No such file or directory: 'data/zippeddata/bom.movie_gross.csv.gz'"
     ]
    }
   ],
   "source": [
    "# Here you run your code to explore the data\n",
    "dfbom = pd.read_csv('data/zippeddata/bom.movie_gross.csv.gz')\n",
    "# df.sort_values('year')\n",
    "\n",
    "#df_imdb_name = pd.read_csv('data/zippeddata/imdb.name.basics.csv')\n",
    "# df.info()\n",
    "# df.head()\n",
    "\n",
    "df_imdb_titleb = pd.read_csv('data/zippeddata/imdb.title.basics.csv.gz')\n",
    "# df.info()\n",
    "# df.head()\n",
    "\n",
    "# df = pd.read_csv('data/zippeddata/bom.movie_gross.csv')\n",
    "# df.info()\n",
    "# df.head()\n",
    "\n",
    "#df_imdb_title = pd.read_csv('data/zippeddata/imdb.title.crew.csv')\n",
    "# df.info()\n",
    "# df.head()\n",
    "\n",
    "\n",
    "#df_imdb_principals = pd.read_csv('data/zippeddata/imdb.title.principals.csv')\n",
    "# df.info()\n",
    "# df.head()\n",
    "\n",
    "df_imdb_ratings = pd.read_csv('data/zippeddata/imdb.title.ratings.csv.gz')\n",
    "# df.info()\n",
    "# df.head()\n",
    "\n",
    "#tsv_file='data/zippeddata/rt.movie_info.tsv'\n",
    "#csv_table=pd.read_table(tsv_file,sep='\\t')\n",
    "#csv_table.to_csv('rt.movie_info.csv',index=False)\n",
    "\n",
    "# csv_table.info()\n",
    "# csv_table.head()\n",
    "\n",
    "\n",
    "#tsv_file='data/zippeddata/rt.reviews.tsv'\n",
    "#csv_table=pd.read_table(tsv_file,sep='\\t')\n",
    "#csv_table.to_csv('rt.reviews.csv',index=False)\n",
    "\n",
    "# csv_table.info()\n",
    "# csv_table.head()\n",
    "\n",
    "#df_tmdb_movies = pd.read_csv('data/zippeddata/tmdb.movies.csv')\n",
    "# df.info()\n",
    "# df.head()\n",
    "\n",
    "df_budget = pd.read_csv('data/zippeddata/tn.movie_budgets.csv.gz')\n",
    "\n",
    "\n",
    "\n"
   ]
  },
  {
   "cell_type": "markdown",
   "metadata": {},
   "source": [
    "## Data Preparation\n",
    "\n",
    "Describe and justify the process for preparing the data for analysis.\n",
    "\n",
    "***\n",
    "Questions to consider:\n",
    "* Were there variables you dropped or created?\n",
    "* How did you address missing values or outliers?\n",
    "* Why are these choices appropriate given the data and the business problem?\n",
    "***"
   ]
  },
  {
   "cell_type": "code",
   "execution_count": 3,
   "metadata": {},
   "outputs": [
    {
     "ename": "NameError",
     "evalue": "name 'dfbom' is not defined",
     "output_type": "error",
     "traceback": [
      "\u001b[0;31m---------------------------------------------------------------------------\u001b[0m",
      "\u001b[0;31mNameError\u001b[0m                                 Traceback (most recent call last)",
      "\u001b[0;32m<ipython-input-3-d22898355140>\u001b[0m in \u001b[0;36m<module>\u001b[0;34m\u001b[0m\n\u001b[1;32m     13\u001b[0m \u001b[0;31m#dfbom.head()\u001b[0m\u001b[0;34m\u001b[0m\u001b[0;34m\u001b[0m\u001b[0;34m\u001b[0m\u001b[0m\n\u001b[1;32m     14\u001b[0m \u001b[0;34m\u001b[0m\u001b[0m\n\u001b[0;32m---> 15\u001b[0;31m \u001b[0mdf_combined_budget\u001b[0m \u001b[0;34m=\u001b[0m \u001b[0mdfbom\u001b[0m\u001b[0;34m.\u001b[0m\u001b[0mmerge\u001b[0m\u001b[0;34m(\u001b[0m\u001b[0mdf_budget\u001b[0m\u001b[0;34m,\u001b[0m \u001b[0mleft_on\u001b[0m \u001b[0;34m=\u001b[0m \u001b[0;34m\"title\"\u001b[0m\u001b[0;34m,\u001b[0m \u001b[0mright_on\u001b[0m \u001b[0;34m=\u001b[0m \u001b[0;34m\"movie\"\u001b[0m\u001b[0;34m)\u001b[0m\u001b[0;34m\u001b[0m\u001b[0;34m\u001b[0m\u001b[0m\n\u001b[0m\u001b[1;32m     16\u001b[0m \u001b[0;34m\u001b[0m\u001b[0m\n\u001b[1;32m     17\u001b[0m \u001b[0;34m\u001b[0m\u001b[0m\n",
      "\u001b[0;31mNameError\u001b[0m: name 'dfbom' is not defined"
     ]
    }
   ],
   "source": [
    "# Here you run your code to clean the data\n",
    "# Here you run your code to model the data\n",
    "\n",
    "# cleaned the first data set\n",
    "#dfbom['domestic_gross'].dropna(inplace= True)\n",
    "#dfbom['domestic_gross'] = pd.to_numeric(dfbom['domestic_gross'], errors ='coerce')\n",
    "#dfbom['foreign_gross'].dropna(inplace= True)\n",
    "#dfbom['foreign_gross'] = pd.to_numeric(dfbom['foreign_gross'], errors =\"coerce\")\n",
    "\n",
    "#dfbom.head()\n",
    "#dfbom['total_gross']= dfbom['domestic_gross']+ dfbom['foreign_gross']\n",
    "\n",
    "#dfbom.head()\n",
    "\n",
    "df_combined_budget = dfbom.merge(df_budget, left_on = \"title\", right_on = \"movie\")\n",
    "\n",
    "\n",
    "\n",
    "\n",
    "df_budget[df_budget.columns[3:6]] = df_budget[df_budget.columns[3:6]].replace('[\\$,]', '', regex=True).astype(float)\n",
    "\n",
    "df_budget.info()\n",
    "\n",
    "# created another row to determine wether the film grossed a profit\n",
    "df_budget['profit'] = df_budget['worldwide_gross']- df_budget['production_budget']\n",
    "df_budget['fin_success'] =  (df_budget['profit'] > 0 )\n",
    "\n",
    "df_budget.head()\n",
    "df_budget['fin_success'].value_counts() # 3657 made money, 2125 lost money\n",
    "df_budget['fin_success'].describe()     \n",
    "\n",
    "df_imdb_comb = pd.merge(df_imdb_titleb,df_imdb_ratings,on='tconst')\n",
    "\n",
    "df_budget_genre = df_budget.merge(df_imdb_titleb, left_on='movie', right_on='primary_title') #\n",
    "\n",
    "df_budget_genre.tail(50)"
   ]
  },
  {
   "cell_type": "code",
   "execution_count": 4,
   "metadata": {},
   "outputs": [
    {
     "ename": "NameError",
     "evalue": "name 'df_imdb_titleb' is not defined",
     "output_type": "error",
     "traceback": [
      "\u001b[0;31m---------------------------------------------------------------------------\u001b[0m",
      "\u001b[0;31mNameError\u001b[0m                                 Traceback (most recent call last)",
      "\u001b[0;32m<ipython-input-4-8cdfc33f03ce>\u001b[0m in \u001b[0;36m<module>\u001b[0;34m\u001b[0m\n\u001b[1;32m     10\u001b[0m     \u001b[0mnew_df\u001b[0m \u001b[0;34m=\u001b[0m \u001b[0mpd\u001b[0m\u001b[0;34m.\u001b[0m\u001b[0mDataFrame\u001b[0m\u001b[0;34m(\u001b[0m\u001b[0mrow_accumulator\u001b[0m\u001b[0;34m)\u001b[0m\u001b[0;34m\u001b[0m\u001b[0;34m\u001b[0m\u001b[0m\n\u001b[1;32m     11\u001b[0m     \u001b[0;32mreturn\u001b[0m \u001b[0mnew_df\u001b[0m\u001b[0;34m\u001b[0m\u001b[0;34m\u001b[0m\u001b[0m\n\u001b[0;32m---> 12\u001b[0;31m \u001b[0mdf_imdb_mtitle\u001b[0m \u001b[0;34m=\u001b[0m \u001b[0mdf_imdb_titleb\u001b[0m\u001b[0;34m[\u001b[0m\u001b[0mdf_imdb_titleb\u001b[0m\u001b[0;34m[\u001b[0m\u001b[0;34m'genres'\u001b[0m\u001b[0;34m]\u001b[0m\u001b[0;34m.\u001b[0m\u001b[0mnotnull\u001b[0m\u001b[0;34m(\u001b[0m\u001b[0;34m)\u001b[0m\u001b[0;34m]\u001b[0m\u001b[0;34m\u001b[0m\u001b[0;34m\u001b[0m\u001b[0m\n\u001b[0m\u001b[1;32m     13\u001b[0m \u001b[0;34m\u001b[0m\u001b[0m\n\u001b[1;32m     14\u001b[0m \u001b[0msingle_genre\u001b[0m \u001b[0;34m=\u001b[0m \u001b[0msplitDataFrameList\u001b[0m\u001b[0;34m(\u001b[0m\u001b[0mdf_imdb_mtitle\u001b[0m\u001b[0;34m,\u001b[0m\u001b[0;34m'genres'\u001b[0m\u001b[0;34m,\u001b[0m\u001b[0;34m','\u001b[0m\u001b[0;34m)\u001b[0m\u001b[0;34m\u001b[0m\u001b[0;34m\u001b[0m\u001b[0m\n",
      "\u001b[0;31mNameError\u001b[0m: name 'df_imdb_titleb' is not defined"
     ]
    }
   ],
   "source": [
    "def splitDataFrameList(df,target_column,separator):\n",
    "    row_accumulator = []\n",
    "    def splitListToRows(row, separator):\n",
    "        split_row = row[target_column].split(separator)\n",
    "        for s in split_row:\n",
    "            new_row = row.to_dict()\n",
    "            new_row[target_column] = s\n",
    "            row_accumulator.append(new_row)\n",
    "    df.apply(splitListToRows, axis=1, args = (separator, ))\n",
    "    new_df = pd.DataFrame(row_accumulator)\n",
    "    return new_df\n",
    "df_imdb_mtitle = df_imdb_titleb[df_imdb_titleb['genres'].notnull()]\n",
    "\n",
    "single_genre = splitDataFrameList(df_imdb_mtitle,'genres',',')\n",
    "\n",
    "budget_genre= df_budget.merge(single_genre, left_on='movie', right_on='primary_title')\n",
    "\n",
    "# single_genre.groupby('genres')['genres'].value_counts()\n",
    "\n",
    "budget_genre.groupby('genres')['genres'].count().sort_values(ascending= False) # sorted genres by data\n",
    "\n",
    "\n",
    "\n",
    "genre_total= dict(budget_genre.groupby('genres')['genres'].count().sort_values(ascending= False))\n",
    "\n",
    "\n",
    "\n",
    "# budget_genre[budget_genre['fin_success'] == True].groupby('genres').count().sort_values('fin_success', ascending= False)\n",
    "\n",
    "genre_success_total= dict(budget_genre[budget_genre['fin_success'] == True].groupby('genres')['genres'].count().sort_values(ascending = False))\n",
    "\n",
    "\n",
    "#delete news and reality tv form data set\n",
    "\n",
    "del genre_total['News']\n",
    "del genre_total['Reality-TV']\n",
    "\n",
    "len(genre_total)\n",
    "\n",
    "\n",
    "\n",
    "genre_success_total\n",
    "\n",
    "#delete News from genre_success_total so that both lists match\n",
    "\n",
    "del genre_success_total['News']\n",
    "len(genre_total)== len(genre_success_total)"
   ]
  },
  {
   "cell_type": "code",
   "execution_count": 6,
   "metadata": {},
   "outputs": [
    {
     "data": {
      "text/plain": [
       "4760"
      ]
     },
     "execution_count": 6,
     "metadata": {},
     "output_type": "execute_result"
    }
   ],
   "source": [
    "budget_genre[budget_genre['fin_success'] == True].groupby('genres')['genres'].count().sum()"
   ]
  },
  {
   "cell_type": "code",
   "execution_count": 7,
   "metadata": {},
   "outputs": [
    {
     "data": {
      "text/plain": [
       "7796"
      ]
     },
     "execution_count": 7,
     "metadata": {},
     "output_type": "execute_result"
    }
   ],
   "source": [
    "budget_genre.groupby('genres')['genres'].count().sum()\n"
   ]
  },
  {
   "cell_type": "code",
   "execution_count": 8,
   "metadata": {},
   "outputs": [
    {
     "data": {
      "text/plain": [
       "{'Drama': 0.5602641717116126,\n",
       " 'Comedy': 0.665083135391924,\n",
       " 'Action': 0.6619718309859155,\n",
       " 'Thriller': 0.5521885521885522,\n",
       " 'Documentary': 0.5450901803607214,\n",
       " 'Adventure': 0.7448979591836735,\n",
       " 'Horror': 0.5783132530120482,\n",
       " 'Crime': 0.5402010050251256,\n",
       " 'Romance': 0.6290322580645161,\n",
       " 'Mystery': 0.6184738955823293,\n",
       " 'Biography': 0.5806451612903226,\n",
       " 'Sci-Fi': 0.6331877729257642,\n",
       " 'Family': 0.6666666666666666,\n",
       " 'Fantasy': 0.7326732673267327,\n",
       " 'Animation': 0.8108108108108109,\n",
       " 'History': 0.5833333333333334,\n",
       " 'Music': 0.6206896551724138,\n",
       " 'Sport': 0.52,\n",
       " 'War': 0.5283018867924528,\n",
       " 'Musical': 0.6,\n",
       " 'Western': 0.36}"
      ]
     },
     "execution_count": 8,
     "metadata": {},
     "output_type": "execute_result"
    }
   ],
   "source": [
    "\n",
    " \n",
    "# return the percentages of success of each genre\n",
    "\n",
    "d1= genre_success_total\n",
    "d2= genre_total\n",
    "\n",
    "d3={x:float(d1[x])/d2[x] for x in d2}\n",
    "\n",
    "d3"
   ]
  },
  {
   "cell_type": "code",
   "execution_count": 9,
   "metadata": {},
   "outputs": [
    {
     "data": {
      "text/plain": [
       "<AxesSubplot:>"
      ]
     },
     "execution_count": 9,
     "metadata": {},
     "output_type": "execute_result"
    },
    {
     "data": {
      "image/png": "[encoded data removed]",
      "text/plain": [
       "<Figure size 432x288 with 1 Axes>"
      ]
     },
     "metadata": {
      "needs_background": "light"
     },
     "output_type": "display_data"
    }
   ],
   "source": [
    "df_percentage = pd.DataFrame.from_dict(d3, orient= 'index')\n",
    "\n",
    "df_percentage.plot.barh()\n",
    "\n"
   ]
  },
  {
   "cell_type": "code",
   "execution_count": 10,
   "metadata": {},
   "outputs": [],
   "source": [
    "#Add release_year column\n",
    "\n",
    "budget_genre['release_year']=budget_genre['release_date'].map(lambda x:int(x[-4:]))"
   ]
  },
  {
   "cell_type": "code",
   "execution_count": 11,
   "metadata": {},
   "outputs": [],
   "source": [
    "#Dropped duplicate records of movies\n",
    "\n",
    "budget_genre.drop_duplicates(subset=['movie','genres'],keep='first',inplace=True)"
   ]
  },
  {
   "cell_type": "code",
   "execution_count": 15,
   "metadata": {},
   "outputs": [],
   "source": [
    "#Created Genre_dict. Dictionary containing Genre names as keys and dictionaries as values. \n",
    "#The inner dictionaries have years as keys and have the average profit in the respective year for films in the given genre.\n",
    "#The dataframe only includes medium length movies of a runtime between 90 and 150 minutes.\n",
    "\n",
    "\n",
    "def inner_dict(genre):\n",
    "    get_dict= {}\n",
    "    for a in recent_years_exclude_2020s:\n",
    "        get_dict[a]=budget_genre[(budget_genre['genres']==genre) & (budget_genre['release_year']==a) & (budget_genre['runtime_minutes']>=90) & (budget_genre['runtime_minutes']<=150)]['profit'].mean()\n",
    "    return get_dict\n",
    "\n",
    "\n",
    "genre_dict={}\n",
    "for a in list(set(budget_genre['genres'])):\n",
    "    genre_dict[a]= inner_dict(a)\n",
    "\n",
    "\n",
    "    \n",
    "\n",
    "\n",
    "# Animation, Fantasy, Adventure, Action, Comedy\n",
    "\n"
   ]
  },
  {
   "cell_type": "code",
   "execution_count": 14,
   "metadata": {
    "scrolled": false
   },
   "outputs": [
    {
     "data": {
      "image/png": "[encoded data removed]",
      "text/plain": [
       "<Figure size 1440x432 with 1 Axes>"
      ]
     },
     "metadata": {
      "needs_background": "light"
     },
     "output_type": "display_data"
    }
   ],
   "source": [
    " def genre_profit():\n",
    "     \n",
    "    #We only want to look at films in the last decade so we created a list of recent years only.\n",
    "    recent_years_list=list(set(budget_genre[budget_genre['release_year']>2010]['release_year']))\n",
    "    recent_years_exclude_2020s= [a for a in recent_years_list if a<2020]\n",
    "    recent_years_exclude_2020s.sort()\n",
    "    \n",
    "    #Created genre_dict. Dictionary containing Genre names as keys and dictionaries as values. \n",
    "    #The inner dictionaries have years as keys and have the average profit in the respective year for films in the given genre.\n",
    "    #The dataframe only includes medium length movies of a runtime between 90 and 150 minutes.\n",
    "\n",
    "    def inner_dict(genre):\n",
    "        get_dict= {}\n",
    "        for a in recent_years_exclude_2020s:\n",
    "            get_dict[a]=budget_genre[(budget_genre['genres']==genre) & (budget_genre['release_year']==a) & (budget_genre['runtime_minutes']>=90) & (budget_genre['runtime_minutes']<=150)]['profit'].mean()\n",
    "        return get_dict\n",
    "\n",
    "    \n",
    "    genre_dict={}\n",
    "    for a in list(set(budget_genre['genres'])):\n",
    "        genre_dict[a]= inner_dict(a)\n",
    "\n",
    "\n",
    "    #Visualizing the genre_dict\n",
    "    \n",
    "    labels = [a for a in genre_dict['Animation'].keys()]\n",
    "    animation_val= [a for a in genre_dict['Animation'].values()]\n",
    "    fantasy_val= [a for a in genre_dict['Fantasy'].values()]\n",
    "    adventure_val= [a for a in genre_dict['Adventure'].values()]\n",
    "    action_val= [a for a in genre_dict['Action'].values()]\n",
    "    comedy_val= [a for a in genre_dict['Comedy'].values()]\n",
    "    musical_val= [a for a in genre_dict['Musical'].values()]\n",
    "\n",
    "    x = np.arange(len(labels))\n",
    "    width = 0.1\n",
    "    \n",
    "    y_range = range(0, 800000000, 100000000)\n",
    "    y_ticks = [a for a in y_range]\n",
    "\n",
    "\n",
    "    fig, ax = plt.subplots(figsize=(20,6))\n",
    "\n",
    "    rects1= ax.bar(x - 2.5*width , animation_val, width, label='Animation',edgecolor='black')\n",
    "    rects2= ax.bar(x - 1.5*width, fantasy_val, width, label='Fantasy', edgecolor='black')\n",
    "    rects3= ax.bar(x - 0.5*width, adventure_val, width, label='Adventure', edgecolor='black')\n",
    "    rects4= ax.bar(x + 0.5*width, action_val, width, label='Action', edgecolor='black')\n",
    "    rects5= ax.bar(x + 1.5*width , comedy_val, width, label='Comedy', edgecolor='black')\n",
    "    rects6= ax.bar(x + 2.5*width , musical_val, width, label='Musical', edgecolor='black')\n",
    "\n",
    "\n",
    "    ax.set_ylabel(\"Profit in 100 million $'s\")\n",
    "    ax.set_xlabel('Year')\n",
    "    ax.set_title('Average Profit for each genre per year')\n",
    "    ax.set_xticks(x)\n",
    "    ax.set_xticklabels(labels)\n",
    "    ax.set_yticks(y_ticks)\n",
    "    ax.legend()\n",
    "    \n",
    "\n",
    "genre_profit()\n",
    "\n",
    "\n",
    "    "
   ]
  },
  {
   "cell_type": "code",
   "execution_count": 16,
   "metadata": {
    "scrolled": true
   },
   "outputs": [
    {
     "data": {
      "image/png": "[encoded data removed]",
      "text/plain": [
       "<Figure size 1800x432 with 1 Axes>"
      ]
     },
     "metadata": {
      "needs_background": "light"
     },
     "output_type": "display_data"
    }
   ],
   "source": [
    "def genre_budget():\n",
    "    \n",
    "    #Create a dictionary named genre_budget_dict that has genres as keys and each genre's average budget as values.\n",
    "    \n",
    "    genre_budget_dict={}\n",
    "    for a in list(set(budget_genre['genres'])):\n",
    "        genre_budget_dict[a]= budget_genre[budget_genre['genres']==a]['production_budget'].mean()\n",
    "\n",
    "    \n",
    "    #Created list of tuples with each tuple consisting of a genre and its average genre budget. i.e. ('Action', budget)\n",
    "    \n",
    "    sort_genre_budget_dict = sorted(genre_budget_dict.items(),key = lambda x: x[1], reverse = True)\n",
    "\n",
    "\n",
    "    \n",
    "    #Creating the visualization\n",
    "    \n",
    "    x_values = [a[0] for a in sort_genre_budget_dict]\n",
    "\n",
    "    y_values = [a[1] for a in sort_genre_budget_dict]\n",
    "\n",
    "    y_range = range(0, int(max(y_values)+1000000), 10000000)\n",
    "    y_ticks = [a for a in y_range]\n",
    "\n",
    "\n",
    "    labels = x_values\n",
    "    y = y_values\n",
    "\n",
    "    x = np.arange(len(labels))\n",
    "    width = 0.5\n",
    "\n",
    "\n",
    "    fig, ax = plt.subplots(figsize=(25,6))\n",
    "\n",
    "    rects1= ax.bar(x , y_values, width, label='Budget',edgecolor='black', color='violet')\n",
    "\n",
    "\n",
    "    ax.set_ylabel('Budget (10 million $)')\n",
    "    ax.set_title('Average Budget for each Genre')\n",
    "    ax.set_xticks(x)\n",
    "    ax.set_xticklabels(labels)\n",
    "    ax.set_yticks(y_ticks)\n",
    "    ax.legend()\n",
    "    \n",
    "genre_budget()\n",
    "\n"
   ]
  },
  {
   "cell_type": "code",
   "execution_count": 58,
   "metadata": {
    "scrolled": true
   },
   "outputs": [
    {
     "data": {
      "image/png": "[encoded data removed]",
      "text/plain": [
       "<Figure size 1800x432 with 1 Axes>"
      ]
     },
     "metadata": {
      "needs_background": "light"
     },
     "output_type": "display_data"
    }
   ],
   "source": [
    "def genre_gross():\n",
    "    \n",
    "    #Create a dictionary named genre_budget_dict that has genres as keys and each genre's average gross as values.\n",
    "    \n",
    "    genre_gross_dict={}\n",
    "    for a in list(set(budget_genre['genres'])):\n",
    "        genre_gross_dict[a]= budget_genre[budget_genre['genres']==a]['worldwide_gross'].mean()\n",
    "\n",
    "    \n",
    "    #Created list of tuples with each tuple consisting of a genre and its average genre budget. i.e. ('Action', budget)\n",
    "    \n",
    "    sort_genre_gross_dict = sorted(genre_gross_dict.items(),key = lambda x: x[1], reverse = True)\n",
    "\n",
    "\n",
    "    \n",
    "    #Creating the visualization\n",
    "    \n",
    "    x_values = [a[0] for a in sort_genre_gross_dict]\n",
    "\n",
    "    y_values = [a[1] for a in sort_genre_gross_dict]\n",
    "\n",
    "    y_range = range(0, int(max(y_values)+1000000), 50000000)\n",
    "    y_ticks = [a for a in y_range]\n",
    "\n",
    "\n",
    "    labels = x_values\n",
    "    y = y_values\n",
    "\n",
    "    x = np.arange(len(labels))\n",
    "    width = 0.5\n",
    "\n",
    "\n",
    "    fig, ax = plt.subplots(figsize=(25,6))\n",
    "\n",
    "    rects1= ax.bar(x , y_values, width, label='Budget',edgecolor='black', color='gold')\n",
    "\n",
    "\n",
    "    ax.set_ylabel(\"Worldwide gross (100's of million $)\")\n",
    "    ax.set_title('Average Worldwide Gross for each Genre')\n",
    "    ax.set_xlabel(\"Year\")\n",
    "    ax.set_xticks(x)\n",
    "    ax.set_xticklabels(labels)\n",
    "    ax.set_yticks(y_ticks)\n",
    "    ax.legend()\n",
    "    \n",
    "genre_gross()\n",
    "\n"
   ]
  },
  {
   "cell_type": "code",
   "execution_count": 45,
   "metadata": {},
   "outputs": [
    {
     "data": {
      "text/plain": [
       "317740154.9558824"
      ]
     },
     "execution_count": 45,
     "metadata": {},
     "output_type": "execute_result"
    }
   ],
   "source": [
    "budget_genre[budget_genre['genres']=='Animation']['worldwide_gross'].mean()"
   ]
  },
  {
   "cell_type": "markdown",
   "metadata": {},
   "source": [
    "## Data Modeling\n",
    "Describe and justify the process for analyzing or modeling the data.\n",
    "\n",
    "***\n",
    "Questions to consider:\n",
    "* How did you analyze or model the data?\n",
    "* How did you iterate on your initial approach to make it better?\n",
    "* Why are these choices appropriate given the data and the business problem?\n",
    "***"
   ]
  },
  {
   "cell_type": "code",
   "execution_count": 27,
   "metadata": {},
   "outputs": [],
   "source": [
    "# Here you run your code to model the data\n",
    "\n",
    "\n"
   ]
  },
  {
   "cell_type": "markdown",
   "metadata": {},
   "source": [
    "## Evaluation\n",
    "Evaluate how well your work solves the stated business problem.\n",
    "\n",
    "***\n",
    "Questions to consider:\n",
    "* How do you interpret the results?\n",
    "* How well does your model fit your data? How much better is this than your baseline model?\n",
    "* How confident are you that your results would generalize beyond the data you have?\n",
    "* How confident are you that this model would benefit the business if put into use?\n",
    "***"
   ]
  },
  {
   "cell_type": "markdown",
   "metadata": {},
   "source": [
    "## Conclusions\n",
    "Provide your conclusions about the work you've done, including any limitations or next steps.\n",
    "\n",
    "***\n",
    "Questions to consider:\n",
    "* What would you recommend the business do as a result of this work?\n",
    "* What are some reasons why your analysis might not fully solve the business problem?\n",
    "* What else could you do in the future to improve this project?\n",
    "***"
   ]
  }
 ],
 "metadata": {
  "kernelspec": {
   "display_name": "Python 3",
   "language": "python",
   "name": "python3"
  },
  "language_info": {
   "codemirror_mode": {
    "name": "ipython",
    "version": 3
   },
   "file_extension": ".py",
   "mimetype": "text/x-python",
   "name": "python",
   "nbconvert_exporter": "python",
   "pygments_lexer": "ipython3",
   "version": "3.8.8"
  }
 },
 "nbformat": 4,
 "nbformat_minor": 4
}
